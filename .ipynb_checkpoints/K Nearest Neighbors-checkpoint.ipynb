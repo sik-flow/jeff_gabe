{
 "cells": [
  {
   "cell_type": "code",
   "execution_count": 1,
   "metadata": {
    "collapsed": true
   },
   "outputs": [],
   "source": [
    "import pandas as pd"
   ]
  },
  {
   "cell_type": "code",
   "execution_count": 3,
   "metadata": {},
   "outputs": [],
   "source": [
    "df = pd.read_csv('./data/nba.csv')"
   ]
  },
  {
   "cell_type": "code",
   "execution_count": 4,
   "metadata": {},
   "outputs": [
    {
     "data": {
      "text/html": [
       "<div>\n",
       "<style scoped>\n",
       "    .dataframe tbody tr th:only-of-type {\n",
       "        vertical-align: middle;\n",
       "    }\n",
       "\n",
       "    .dataframe tbody tr th {\n",
       "        vertical-align: top;\n",
       "    }\n",
       "\n",
       "    .dataframe thead th {\n",
       "        text-align: right;\n",
       "    }\n",
       "</style>\n",
       "<table border=\"1\" class=\"dataframe\">\n",
       "  <thead>\n",
       "    <tr style=\"text-align: right;\">\n",
       "      <th></th>\n",
       "      <th>#</th>\n",
       "      <th>Season Start</th>\n",
       "      <th>Player Name</th>\n",
       "      <th>Player Salary in $</th>\n",
       "      <th>Pos</th>\n",
       "      <th>Age</th>\n",
       "      <th>Tm</th>\n",
       "      <th>G</th>\n",
       "      <th>GS</th>\n",
       "      <th>MP</th>\n",
       "      <th>...</th>\n",
       "      <th>FT%</th>\n",
       "      <th>ORB</th>\n",
       "      <th>DRB</th>\n",
       "      <th>TRB</th>\n",
       "      <th>AST</th>\n",
       "      <th>STL</th>\n",
       "      <th>BLK</th>\n",
       "      <th>TOV</th>\n",
       "      <th>PF</th>\n",
       "      <th>PTS</th>\n",
       "    </tr>\n",
       "  </thead>\n",
       "  <tbody>\n",
       "    <tr>\n",
       "      <th>0</th>\n",
       "      <td>24304</td>\n",
       "      <td>2017</td>\n",
       "      <td>A.J. Hammons</td>\n",
       "      <td>$1,312,611.00</td>\n",
       "      <td>C</td>\n",
       "      <td>24</td>\n",
       "      <td>DAL</td>\n",
       "      <td>22</td>\n",
       "      <td>0</td>\n",
       "      <td>163</td>\n",
       "      <td>...</td>\n",
       "      <td>0.450</td>\n",
       "      <td>8</td>\n",
       "      <td>28</td>\n",
       "      <td>36</td>\n",
       "      <td>4</td>\n",
       "      <td>1</td>\n",
       "      <td>13</td>\n",
       "      <td>10</td>\n",
       "      <td>21</td>\n",
       "      <td>48</td>\n",
       "    </tr>\n",
       "    <tr>\n",
       "      <th>1</th>\n",
       "      <td>24165</td>\n",
       "      <td>2017</td>\n",
       "      <td>Aaron Brooks</td>\n",
       "      <td>$2,116,955.00</td>\n",
       "      <td>PG</td>\n",
       "      <td>32</td>\n",
       "      <td>IND</td>\n",
       "      <td>65</td>\n",
       "      <td>0</td>\n",
       "      <td>894</td>\n",
       "      <td>...</td>\n",
       "      <td>0.800</td>\n",
       "      <td>18</td>\n",
       "      <td>51</td>\n",
       "      <td>69</td>\n",
       "      <td>125</td>\n",
       "      <td>25</td>\n",
       "      <td>9</td>\n",
       "      <td>66</td>\n",
       "      <td>93</td>\n",
       "      <td>322</td>\n",
       "    </tr>\n",
       "    <tr>\n",
       "      <th>2</th>\n",
       "      <td>24289</td>\n",
       "      <td>2017</td>\n",
       "      <td>Aaron Gordon</td>\n",
       "      <td>$5,504,420.00</td>\n",
       "      <td>SF</td>\n",
       "      <td>21</td>\n",
       "      <td>ORL</td>\n",
       "      <td>80</td>\n",
       "      <td>72</td>\n",
       "      <td>2298</td>\n",
       "      <td>...</td>\n",
       "      <td>0.719</td>\n",
       "      <td>116</td>\n",
       "      <td>289</td>\n",
       "      <td>405</td>\n",
       "      <td>150</td>\n",
       "      <td>64</td>\n",
       "      <td>40</td>\n",
       "      <td>89</td>\n",
       "      <td>172</td>\n",
       "      <td>1019</td>\n",
       "    </tr>\n",
       "    <tr>\n",
       "      <th>3</th>\n",
       "      <td>24315</td>\n",
       "      <td>2017</td>\n",
       "      <td>Aaron Harrison</td>\n",
       "      <td>NaN</td>\n",
       "      <td>SG</td>\n",
       "      <td>22</td>\n",
       "      <td>CHO</td>\n",
       "      <td>5</td>\n",
       "      <td>0</td>\n",
       "      <td>17</td>\n",
       "      <td>...</td>\n",
       "      <td>0.500</td>\n",
       "      <td>0</td>\n",
       "      <td>3</td>\n",
       "      <td>3</td>\n",
       "      <td>3</td>\n",
       "      <td>0</td>\n",
       "      <td>0</td>\n",
       "      <td>0</td>\n",
       "      <td>2</td>\n",
       "      <td>1</td>\n",
       "    </tr>\n",
       "    <tr>\n",
       "      <th>4</th>\n",
       "      <td>24523</td>\n",
       "      <td>2017</td>\n",
       "      <td>Adreian Payne</td>\n",
       "      <td>NaN</td>\n",
       "      <td>PF</td>\n",
       "      <td>25</td>\n",
       "      <td>MIN</td>\n",
       "      <td>18</td>\n",
       "      <td>0</td>\n",
       "      <td>135</td>\n",
       "      <td>...</td>\n",
       "      <td>0.737</td>\n",
       "      <td>9</td>\n",
       "      <td>24</td>\n",
       "      <td>33</td>\n",
       "      <td>7</td>\n",
       "      <td>8</td>\n",
       "      <td>7</td>\n",
       "      <td>8</td>\n",
       "      <td>32</td>\n",
       "      <td>63</td>\n",
       "    </tr>\n",
       "  </tbody>\n",
       "</table>\n",
       "<p>5 rows × 54 columns</p>\n",
       "</div>"
      ],
      "text/plain": [
       "       #  Season Start     Player Name  Player Salary in $  Pos  Age   Tm   G  \\\n",
       "0  24304          2017    A.J. Hammons       $1,312,611.00    C   24  DAL  22   \n",
       "1  24165          2017    Aaron Brooks       $2,116,955.00   PG   32  IND  65   \n",
       "2  24289          2017    Aaron Gordon       $5,504,420.00   SF   21  ORL  80   \n",
       "3  24315          2017  Aaron Harrison                  NaN  SG   22  CHO   5   \n",
       "4  24523          2017   Adreian Payne                  NaN  PF   25  MIN  18   \n",
       "\n",
       "   GS    MP  ...    FT%  ORB  DRB  TRB  AST  STL  BLK  TOV   PF   PTS  \n",
       "0   0   163  ...  0.450    8   28   36    4    1   13   10   21    48  \n",
       "1   0   894  ...  0.800   18   51   69  125   25    9   66   93   322  \n",
       "2  72  2298  ...  0.719  116  289  405  150   64   40   89  172  1019  \n",
       "3   0    17  ...  0.500    0    3    3    3    0    0    0    2     1  \n",
       "4   0   135  ...  0.737    9   24   33    7    8    7    8   32    63  \n",
       "\n",
       "[5 rows x 54 columns]"
      ]
     },
     "execution_count": 4,
     "metadata": {},
     "output_type": "execute_result"
    }
   ],
   "source": [
    "df.head()"
   ]
  },
  {
   "cell_type": "code",
   "execution_count": 5,
   "metadata": {},
   "outputs": [
    {
     "data": {
      "text/plain": [
       "Index(['#', 'Season Start', 'Player Name', ' Player Salary in $ ', 'Pos',\n",
       "       'Age', 'Tm', 'G', 'GS', 'MP', 'PER', 'TS%', '3PAr', 'FTr', 'ORB%',\n",
       "       'DRB%', 'TRB%', 'AST%', 'STL%', 'BLK%', 'TOV%', 'USG%', 'blanl', 'OWS',\n",
       "       'DWS', 'WS', 'WS/48', 'blank2', 'OBPM', 'DBPM', 'BPM', 'VORP', 'FG',\n",
       "       'FGA', 'FG%', '3P', '3PA', '3P%', '2P', '2PA', '2P%', 'eFG%', 'FT',\n",
       "       'FTA', 'FT%', 'ORB', 'DRB', 'TRB', 'AST', 'STL', 'BLK', 'TOV', 'PF',\n",
       "       'PTS'],\n",
       "      dtype='object')"
      ]
     },
     "execution_count": 5,
     "metadata": {},
     "output_type": "execute_result"
    }
   ],
   "source": [
    "df.columns"
   ]
  },
  {
   "cell_type": "code",
   "execution_count": 6,
   "metadata": {
    "collapsed": true
   },
   "outputs": [],
   "source": [
    "# lets just look at points, rebounds, and asists "
   ]
  },
  {
   "cell_type": "code",
   "execution_count": 10,
   "metadata": {},
   "outputs": [
    {
     "data": {
      "text/html": [
       "<div>\n",
       "<style scoped>\n",
       "    .dataframe tbody tr th:only-of-type {\n",
       "        vertical-align: middle;\n",
       "    }\n",
       "\n",
       "    .dataframe tbody tr th {\n",
       "        vertical-align: top;\n",
       "    }\n",
       "\n",
       "    .dataframe thead th {\n",
       "        text-align: right;\n",
       "    }\n",
       "</style>\n",
       "<table border=\"1\" class=\"dataframe\">\n",
       "  <thead>\n",
       "    <tr style=\"text-align: right;\">\n",
       "      <th></th>\n",
       "      <th>PTS</th>\n",
       "      <th>TRB</th>\n",
       "      <th>AST</th>\n",
       "    </tr>\n",
       "  </thead>\n",
       "  <tbody>\n",
       "    <tr>\n",
       "      <th>293</th>\n",
       "      <td>1954</td>\n",
       "      <td>640</td>\n",
       "      <td>646</td>\n",
       "    </tr>\n",
       "  </tbody>\n",
       "</table>\n",
       "</div>"
      ],
      "text/plain": [
       "      PTS  TRB  AST\n",
       "293  1954  640  646"
      ]
     },
     "execution_count": 10,
     "metadata": {},
     "output_type": "execute_result"
    }
   ],
   "source": [
    "df[df['Player Name'] == 'LeBron James'][['PTS', 'TRB', 'AST']]"
   ]
  },
  {
   "cell_type": "markdown",
   "metadata": {},
   "source": [
    "Which players had the closest season to LeBron?"
   ]
  },
  {
   "cell_type": "code",
   "execution_count": 11,
   "metadata": {
    "collapsed": true
   },
   "outputs": [],
   "source": [
    "from sklearn.neighbors import NearestNeighbors"
   ]
  },
  {
   "cell_type": "code",
   "execution_count": 12,
   "metadata": {
    "collapsed": true
   },
   "outputs": [],
   "source": [
    "nn = NearestNeighbors()"
   ]
  },
  {
   "cell_type": "code",
   "execution_count": 13,
   "metadata": {},
   "outputs": [
    {
     "data": {
      "text/plain": [
       "NearestNeighbors(algorithm='auto', leaf_size=30, metric='minkowski',\n",
       "                 metric_params=None, n_jobs=None, n_neighbors=5, p=2,\n",
       "                 radius=1.0)"
      ]
     },
     "execution_count": 13,
     "metadata": {},
     "output_type": "execute_result"
    }
   ],
   "source": [
    "nn.fit(df[['PTS', 'TRB', 'AST']])"
   ]
  },
  {
   "cell_type": "code",
   "execution_count": 17,
   "metadata": {},
   "outputs": [
    {
     "data": {
      "text/plain": [
       "(array([[  0.        , 251.84916121, 315.47266126, 316.83591968,\n",
       "         348.9025652 ]]), array([[293, 160, 425, 217,  88]]))"
      ]
     },
     "execution_count": 17,
     "metadata": {},
     "output_type": "execute_result"
    }
   ],
   "source": [
    "nn.kneighbors(df.loc[293, ['PTS', 'TRB', 'AST']].values.reshape(1, -1))"
   ]
  },
  {
   "cell_type": "code",
   "execution_count": 18,
   "metadata": {},
   "outputs": [
    {
     "data": {
      "text/plain": [
       "293             LeBron James\n",
       "160    Giannis Antetokounmpo\n",
       "425            Stephen Curry\n",
       "217             Jimmy Butler\n",
       "88            Damian Lillard\n",
       "Name: Player Name, dtype: object"
      ]
     },
     "execution_count": 18,
     "metadata": {},
     "output_type": "execute_result"
    }
   ],
   "source": [
    "df.loc[[293, 160, 425, 217, 88], 'Player Name']"
   ]
  },
  {
   "cell_type": "code",
   "execution_count": null,
   "metadata": {
    "collapsed": true
   },
   "outputs": [],
   "source": []
  }
 ],
 "metadata": {
  "kernelspec": {
   "display_name": "Python 3",
   "language": "python",
   "name": "python3"
  },
  "language_info": {
   "codemirror_mode": {
    "name": "ipython",
    "version": 3
   },
   "file_extension": ".py",
   "mimetype": "text/x-python",
   "name": "python",
   "nbconvert_exporter": "python",
   "pygments_lexer": "ipython3",
   "version": "3.6.5"
  }
 },
 "nbformat": 4,
 "nbformat_minor": 2
}
